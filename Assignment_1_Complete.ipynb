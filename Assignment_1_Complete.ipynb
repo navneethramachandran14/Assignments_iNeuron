{
 "cells": [
  {
   "cell_type": "markdown",
   "id": "eb6ccdb4",
   "metadata": {},
   "source": [
    "# Assignment_1"
   ]
  },
  {
   "cell_type": "markdown",
   "id": "7ee15653",
   "metadata": {},
   "source": [
    "1. In the below elements which of them are values or an expression? eg:- values can be integer or string and expressions will be mathematical operators.\n",
    "*,\n",
    "'hello',\n",
    "-87.8,\n",
    "-,\n",
    "/,\n",
    "+,\n",
    "6"
   ]
  },
  {
   "cell_type": "raw",
   "id": "b3635da7",
   "metadata": {},
   "source": [
    "Elements that can be called as values[can be integer or string] are 'hello', -87.8, 6 \n",
    "&\n",
    "Elements that can be called as expressions[mathematical operators] are *, -, /, +"
   ]
  },
  {
   "cell_type": "markdown",
   "id": "36c3e2d5",
   "metadata": {},
   "source": [
    "2. What is the difference between string and variable?"
   ]
  },
  {
   "cell_type": "raw",
   "id": "91b6d814",
   "metadata": {},
   "source": [
    "A string is a type of variable. Variables can be of several types like integer, floating point, string, boolean etc\n",
    "\n",
    "For example -\n",
    "a = 1 \n",
    "name = \"Navneeth\" \n",
    "is_newbie = True\n",
    "\n",
    "In the code example we have an integer, string and boolean. All of these are variables. String is just a type of variable.\n",
    "Python detects the type of variable automatically. A string is written between quotes ('') or (\"\")."
   ]
  },
  {
   "cell_type": "markdown",
   "id": "4b2a7ed6",
   "metadata": {},
   "source": [
    "3. Describe three different data types."
   ]
  },
  {
   "cell_type": "raw",
   "id": "0528cca2",
   "metadata": {},
   "source": [
    "Data types are the classification or categorization of data items. It represents the kind of value that tells what operations can be performed on a particular data. Since everything is an object in Python programming, data types are actually classes and variables are instance (object) of these classes.\n",
    "\n",
    "Following are the standard or built-in data type of Python:\n",
    "\n",
    "Numeric [Integers,Float & Complex Numbers]\n",
    "Sequence Type [String,List &Tuple]\n",
    "Boolean\n",
    "Set\n",
    "Dictionary\n",
    "\n",
    "Describing 3 from the above data types below -\n",
    "\n",
    "Integers – This value is represented by int class. It contains positive or negative whole numbers (without fraction or decimal). In Python there is no limit to how long an integer value can be.\n",
    "\n",
    "List\n",
    "Lists are just like the arrays, declared in other languages which is a ordered collection of data. It is very flexible as the items in a list do not need to be of the same type.\n",
    "Creating List\n",
    "Lists in Python can be created by just placing the sequence inside the square brackets[].\n",
    "\n",
    "Dictionary\n",
    "Dictionary in Python is an unordered collection of data values, used to store data values like a map, which unlike other Data Types that hold only single value as an element, Dictionary holds key:value pair. Key-value is provided in the dictionary to make it more optimized. Each key-value pair in a Dictionary is separated by a colon :, whereas each key is separated by a ‘comma’."
   ]
  },
  {
   "cell_type": "code",
   "execution_count": 7,
   "id": "c4502548",
   "metadata": {},
   "outputs": [
    {
     "name": "stdout",
     "output_type": "stream",
     "text": [
      "7\n"
     ]
    }
   ],
   "source": [
    "#Integer Example \n",
    "a = 7\n",
    "print(a)"
   ]
  },
  {
   "cell_type": "code",
   "execution_count": 11,
   "id": "3e73b33a",
   "metadata": {
    "scrolled": true
   },
   "outputs": [
    {
     "name": "stdout",
     "output_type": "stream",
     "text": [
      "['iPhone', 'iPad', 'iPod', 'iMac']\n"
     ]
    }
   ],
   "source": [
    "#List Example \n",
    "Apple_Products = ['iPhone','iPad','iPod','iMac']\n",
    "print(Apple_Products)"
   ]
  },
  {
   "cell_type": "code",
   "execution_count": 14,
   "id": "55eeab74",
   "metadata": {},
   "outputs": [
    {
     "name": "stdout",
     "output_type": "stream",
     "text": [
      "{'Name': 'Navneeth', 'Institute': 'ineuron', 'Age': 25}\n"
     ]
    }
   ],
   "source": [
    "#Dictionary Example\n",
    "Student_Details = {\n",
    "    'Name':'Navneeth',\n",
    "    'Institute':'ineuron',\n",
    "    'Age':25\n",
    "        }\n",
    "print(Student_Details)"
   ]
  },
  {
   "cell_type": "markdown",
   "id": "90171793",
   "metadata": {},
   "source": [
    "4. What is an expression made up of? What do all expressions do?"
   ]
  },
  {
   "cell_type": "raw",
   "id": "46d98163",
   "metadata": {},
   "source": [
    "An expression is a combination of values and operators. All expressions evaluate (that is, reduce) to a single value."
   ]
  },
  {
   "cell_type": "markdown",
   "id": "f04e4d5d",
   "metadata": {},
   "source": [
    "5. This assignment statements, like spam = 10. What is the difference between an expression and a statement?"
   ]
  },
  {
   "cell_type": "raw",
   "id": "41bf9cb0",
   "metadata": {},
   "source": [
    "An expression always evaluates to a value, while a statement does something.\n",
    "An expression is a statement as well, but it must have a return."
   ]
  },
  {
   "cell_type": "code",
   "execution_count": 25,
   "id": "a50dab71",
   "metadata": {},
   "outputs": [
    {
     "data": {
      "text/plain": [
       "2"
      ]
     },
     "execution_count": 25,
     "metadata": {},
     "output_type": "execute_result"
    }
   ],
   "source": [
    "#Expression Example 1\n",
    "1+1"
   ]
  },
  {
   "cell_type": "code",
   "execution_count": 26,
   "id": "c55a0119",
   "metadata": {},
   "outputs": [
    {
     "data": {
      "text/plain": [
       "'My Name is Navneeth.'"
      ]
     },
     "execution_count": 26,
     "metadata": {},
     "output_type": "execute_result"
    }
   ],
   "source": [
    "#Expression Example 2\n",
    "'My '+'Name '+'is '+'Navneeth.'"
   ]
  },
  {
   "cell_type": "code",
   "execution_count": 27,
   "id": "449b20e9",
   "metadata": {},
   "outputs": [
    {
     "name": "stdout",
     "output_type": "stream",
     "text": [
      "iNeuron is Amazing!\n"
     ]
    }
   ],
   "source": [
    "#Statement Example 1\n",
    "Institute = 'iNeuron'\n",
    "print(f'{Institute} is Amazing!')"
   ]
  },
  {
   "cell_type": "markdown",
   "id": "6ae8b6e4",
   "metadata": {},
   "source": [
    "6. After running the following code, what does the variable bacon contain?\n",
    "bacon = 22\n",
    "bacon + 1"
   ]
  },
  {
   "cell_type": "code",
   "execution_count": 3,
   "id": "34c23ced",
   "metadata": {},
   "outputs": [
    {
     "data": {
      "text/plain": [
       "23"
      ]
     },
     "execution_count": 3,
     "metadata": {},
     "output_type": "execute_result"
    }
   ],
   "source": [
    "bacon = 22 \n",
    "bacon + 1"
   ]
  },
  {
   "cell_type": "markdown",
   "id": "690ba173",
   "metadata": {},
   "source": [
    "7. What should the values of the following two terms be?\n",
    "'spam' + 'spamspam'\n",
    "'spam' * 3"
   ]
  },
  {
   "cell_type": "code",
   "execution_count": 1,
   "id": "b6136cde",
   "metadata": {},
   "outputs": [
    {
     "data": {
      "text/plain": [
       "'spamspamspam'"
      ]
     },
     "execution_count": 1,
     "metadata": {},
     "output_type": "execute_result"
    }
   ],
   "source": [
    "'spam' + 'spamspam'"
   ]
  },
  {
   "cell_type": "code",
   "execution_count": 2,
   "id": "4488b3ad",
   "metadata": {},
   "outputs": [
    {
     "data": {
      "text/plain": [
       "'spamspamspam'"
      ]
     },
     "execution_count": 2,
     "metadata": {},
     "output_type": "execute_result"
    }
   ],
   "source": [
    "'spam' * 3"
   ]
  },
  {
   "cell_type": "markdown",
   "id": "1ded61bd",
   "metadata": {},
   "source": [
    "8. Why is eggs a valid variable name while 100 is invalid?"
   ]
  },
  {
   "cell_type": "raw",
   "id": "e280c13a",
   "metadata": {},
   "source": [
    "Variable names cannot begin with a number, hence 100 as a variable name becomed invalid."
   ]
  },
  {
   "cell_type": "markdown",
   "id": "56036ed4",
   "metadata": {},
   "source": [
    "9. What three functions can be used to get the integer, floating-point number, or string version of a value?"
   ]
  },
  {
   "cell_type": "raw",
   "id": "9092120d",
   "metadata": {},
   "source": [
    "The int(), float(), and str() functions will evaluate to the integer, floating-point number, and string versions of the value passed to them."
   ]
  },
  {
   "cell_type": "markdown",
   "id": "5296558d",
   "metadata": {},
   "source": [
    "10. Why does this expression cause an error? How can you fix it?'I have eaten ' + 99 + ' burritos.'"
   ]
  },
  {
   "cell_type": "code",
   "execution_count": 28,
   "id": "8c6f7bcd",
   "metadata": {},
   "outputs": [
    {
     "name": "stdout",
     "output_type": "stream",
     "text": [
      "I have eaten 99 burritos.\n"
     ]
    }
   ],
   "source": [
    "#The expression causes an error because 99 is an integer, and only strings can be concatenated to other strings with the + operator. The correct way is 'I have eaten ' + str(99) + ' burritos.'.\n",
    "print('I have eaten ' + str(99) + ' burritos.')"
   ]
  },
  {
   "cell_type": "raw",
   "id": "6f5b4079",
   "metadata": {},
   "source": []
  }
 ],
 "metadata": {
  "kernelspec": {
   "display_name": "Python 3 (ipykernel)",
   "language": "python",
   "name": "python3"
  },
  "language_info": {
   "codemirror_mode": {
    "name": "ipython",
    "version": 3
   },
   "file_extension": ".py",
   "mimetype": "text/x-python",
   "name": "python",
   "nbconvert_exporter": "python",
   "pygments_lexer": "ipython3",
   "version": "3.9.7"
  }
 },
 "nbformat": 4,
 "nbformat_minor": 5
}
