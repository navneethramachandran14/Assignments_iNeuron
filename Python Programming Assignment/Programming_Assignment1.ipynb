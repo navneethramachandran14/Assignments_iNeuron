{
 "cells": [
  {
   "cell_type": "markdown",
   "id": "8f32d636",
   "metadata": {},
   "source": [
    "# Programming_Assignment1\n"
   ]
  },
  {
   "cell_type": "markdown",
   "id": "bfa5e3a6",
   "metadata": {},
   "source": [
    "1. Write a Python program to print \"Hello Python\"?\n",
    "2. Write a Python program to do arithmetical operations addition and division.?\n",
    "3. Write a Python program to find the area of a triangle?\n",
    "4. Write a Python program to swap two variables?\n",
    "5. Write a Python program to generate a random number?"
   ]
  },
  {
   "cell_type": "markdown",
   "id": "093d8056",
   "metadata": {},
   "source": [
    "## 1. Write a Python program to print \"Hello Python\"?"
   ]
  },
  {
   "cell_type": "code",
   "execution_count": 1,
   "id": "cf96fed3",
   "metadata": {},
   "outputs": [
    {
     "name": "stdout",
     "output_type": "stream",
     "text": [
      "Hello Python\n"
     ]
    }
   ],
   "source": [
    "print(\"Hello Python\")"
   ]
  },
  {
   "cell_type": "markdown",
   "id": "707cfe57",
   "metadata": {},
   "source": [
    "## 2. Write a Python program to do arithmetical operations addition and division.?"
   ]
  },
  {
   "cell_type": "code",
   "execution_count": 13,
   "id": "8eb452ee",
   "metadata": {},
   "outputs": [
    {
     "name": "stdout",
     "output_type": "stream",
     "text": [
      "sum is 7 & divided result is 0.75\n"
     ]
    }
   ],
   "source": [
    "num1 = 3\n",
    "num2 = 4\n",
    "Addn = num1 + num2\n",
    "div = num1 / num2\n",
    "print(f'sum is {Addn} & divided result is {div}')"
   ]
  },
  {
   "cell_type": "markdown",
   "id": "79da18a1",
   "metadata": {},
   "source": [
    "## 3. Write a Python program to find the area of a triangle?"
   ]
  },
  {
   "cell_type": "code",
   "execution_count": 7,
   "id": "b333ebf1",
   "metadata": {},
   "outputs": [
    {
     "name": "stdout",
     "output_type": "stream",
     "text": [
      "Enter length of base of triangle 10\n",
      "Enter length of height of triangle 5\n",
      "Enter unit of measurement Metre\n",
      "Area of the given triangle is 25.0 Metre Square\n"
     ]
    }
   ],
   "source": [
    "base = int(input('Enter length of base of triangle '))\n",
    "height = int(input('Enter length of height of triangle '))\n",
    "unit = input('Enter unit of measurement ')\n",
    "area = 0.5*base*height\n",
    "print(f\"Area of the given triangle is {area} {unit} Square\")"
   ]
  },
  {
   "cell_type": "markdown",
   "id": "61fb2961",
   "metadata": {},
   "source": [
    "## 4. Write a Python program to swap two variables?"
   ]
  },
  {
   "cell_type": "code",
   "execution_count": 10,
   "id": "bf6ca1e0",
   "metadata": {},
   "outputs": [
    {
     "name": "stdout",
     "output_type": "stream",
     "text": [
      "Enter Number 1 3\n",
      "Enter Number 2 4\n",
      "Number 1 = 3 & Number 2 = 4\n",
      "**SWAPPINGGG**\n",
      "Number 1 = 4 & Number 2 = 3\n"
     ]
    }
   ],
   "source": [
    "Num1 = int(input('Enter Number 1 - '))\n",
    "Num2 = int(input('Enter Number 2 - '))\n",
    "print(f\"Number 1 = {Num1} & Number 2 = {Num2}\")\n",
    "print(\"**SWAPPINGGG**\")\n",
    "Num3 = Num1\n",
    "Num1 = Num2\n",
    "Num2 = Num3\n",
    "print(f\"Number 1 = {Num1} & Number 2 = {Num2}\")"
   ]
  },
  {
   "cell_type": "markdown",
   "id": "dccafca9",
   "metadata": {},
   "source": [
    "## 5. Write a Python program to generate a random number?"
   ]
  },
  {
   "cell_type": "code",
   "execution_count": 11,
   "id": "cc2e5026",
   "metadata": {},
   "outputs": [
    {
     "name": "stdout",
     "output_type": "stream",
     "text": [
      "7\n"
     ]
    }
   ],
   "source": [
    "# importing the random module\n",
    "import random\n",
    "print(random.randint(0,9))"
   ]
  },
  {
   "cell_type": "code",
   "execution_count": null,
   "id": "93717135",
   "metadata": {},
   "outputs": [],
   "source": []
  }
 ],
 "metadata": {
  "kernelspec": {
   "display_name": "Python 3 (ipykernel)",
   "language": "python",
   "name": "python3"
  },
  "language_info": {
   "codemirror_mode": {
    "name": "ipython",
    "version": 3
   },
   "file_extension": ".py",
   "mimetype": "text/x-python",
   "name": "python",
   "nbconvert_exporter": "python",
   "pygments_lexer": "ipython3",
   "version": "3.9.7"
  }
 },
 "nbformat": 4,
 "nbformat_minor": 5
}
