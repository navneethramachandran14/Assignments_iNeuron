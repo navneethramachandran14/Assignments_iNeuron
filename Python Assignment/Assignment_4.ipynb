{
 "cells": [
  {
   "cell_type": "markdown",
   "id": "a9885164",
   "metadata": {},
   "source": [
    "# Assignment_4"
   ]
  },
  {
   "cell_type": "markdown",
   "id": "12a310fe",
   "metadata": {},
   "source": [
    "1. What exactly is []?\n",
    "2. In a list of values stored in a variable called spam, how would you assign the value &#39;hello&#39; as the\n",
    "third value? (Assume [2, 4, 6, 8, 10] are in spam.)\n",
    "Let&#39;s pretend the spam includes the list [&#39;a&#39;, &#39;b&#39;, &#39;c&#39;, &#39;d&#39;] for the next three queries.\n",
    "3. What is the value of spam[int(int(&#39;3&#39; * 2) / 11)]?\n",
    "4. What is the value of spam[-1]?\n",
    "5. What is the value of spam[:2]?\n",
    "Let&#39;s pretend bacon has the list [3.14, &#39;cat,&#39; 11, &#39;cat,&#39; True] for the next three questions.\n",
    "6. What is the value of bacon.index(&#39;cat&#39;)?\n",
    "7. How does bacon.append(99) change the look of the list value in bacon?\n",
    "8. How does bacon.remove(&#39;cat&#39;) change the look of the list in bacon?\n",
    "9. What are the list concatenation and list replication operators?\n",
    "10. What is difference between the list methods append() and insert()?\n",
    "11. What are the two methods for removing items from a list?\n",
    "12. Describe how list values and string values are identical.\n",
    "13. What&#39;s the difference between tuples and lists?\n",
    "14. How do you type a tuple value that only contains the integer 42?\n",
    "15. How do you get a list value&#39;s tuple form? How do you get a tuple value&#39;s list form?\n",
    "16. Variables that &quot;contain&quot; list values are not necessarily lists themselves. Instead, what do they\n",
    "contain?\n",
    "17. How do you distinguish between copy.copy() and copy.deepcopy()?"
   ]
  },
  {
   "cell_type": "markdown",
   "id": "40ce7ad8",
   "metadata": {},
   "source": [
    "## 1. What is []?\n",
    "The empty list value, which is a list value that contains no items. This is similar to how '' is the empty string value."
   ]
  },
  {
   "cell_type": "markdown",
   "id": "ab6e5c29",
   "metadata": {},
   "source": [
    "## 2. In a list of values stored in a variable called spam, how would you assign the value 'hello' as the third value? (Assume [2, 4, 6, 8, 10] are in spam.) Let's pretend the spam includes the list ['a', 'b', 'c', 'd'] for the next three queries.\n",
    "spam[2] = 'hello' "
   ]
  },
  {
   "cell_type": "markdown",
   "id": "6b51bd32",
   "metadata": {},
   "source": [
    "## 3. What is the value of spam[int(int('3' * 2) / 11)]?\n",
    "'d', Note that '3' * 2 is the string '33', which is passed to int() before being divided by 11. This eventually evaluates to 3. Expressions can be used wherever values are used."
   ]
  },
  {
   "cell_type": "markdown",
   "id": "e8e493ef",
   "metadata": {},
   "source": [
    "## 4. What is the value of spam[-1]?\n",
    "'d' (Negative indexes count from the end.)"
   ]
  },
  {
   "cell_type": "markdown",
   "id": "7e5e6842",
   "metadata": {},
   "source": [
    "## 5. What is the value of spam[:2]? Let's pretend bacon has the list [3.14, 'cat,' 11, 'cat,' True] for the next three questions.\n",
    "['a', 'b']"
   ]
  },
  {
   "cell_type": "markdown",
   "id": "468f52ab",
   "metadata": {},
   "source": [
    "## 6. What is the value of bacon.index('cat')?\n",
    "1"
   ]
  },
  {
   "cell_type": "markdown",
   "id": "32d97ea7",
   "metadata": {},
   "source": [
    "## 7. How does bacon.append(99) change the look of the list value in bacon?\n",
    "[3.14, 'cat', 11, 'cat', True, 99]"
   ]
  },
  {
   "cell_type": "markdown",
   "id": "8dfa7c06",
   "metadata": {},
   "source": [
    "## 8. How does bacon.remove('cat') change the look of the list in bacon?\n",
    "[3.14, 11, 'cat', True]"
   ]
  },
  {
   "cell_type": "code",
   "execution_count": 2,
   "id": "dfc52ac0",
   "metadata": {},
   "outputs": [
    {
     "name": "stdout",
     "output_type": "stream",
     "text": [
      "[2, 1, 4]\n"
     ]
    }
   ],
   "source": [
    "#Another example illustrating above question\n",
    "L1 = [1,2,1,4]\n",
    "L1.remove(1)\n",
    "print(L1)"
   ]
  },
  {
   "cell_type": "markdown",
   "id": "ec35284e",
   "metadata": {},
   "source": [
    "## 9. What are the list concatenation and list replication operators?\n",
    "The operator for list concatenation is +, while the operator for replication is *."
   ]
  },
  {
   "cell_type": "markdown",
   "id": "5ef52871",
   "metadata": {},
   "source": [
    "## 10. What is difference between the list methods append() and insert()?\n",
    "While append() will add values only to the end of a list, insert() can add them anywhere in the list."
   ]
  },
  {
   "cell_type": "markdown",
   "id": "6a9d0e05",
   "metadata": {},
   "source": [
    "## 11. What are the two methods for removing items from a list?\n",
    "The del statement and the remove() list method are two ways to remove values from a list. Apart from this pop(), clear() can also be used."
   ]
  },
  {
   "cell_type": "markdown",
   "id": "7abd0ed1",
   "metadata": {},
   "source": [
    "## 12. Describe how list values and string values are identical.\n",
    "Both lists and strings can be passed to len(), have indexes and slices, be used in for loops, be concatenated or replicated, and be used with the in and not in operators."
   ]
  },
  {
   "cell_type": "markdown",
   "id": "b5e1a265",
   "metadata": {},
   "source": [
    "## 13. What's the difference between tuples and lists?\n",
    "Lists are mutable; they can have values added, removed, or changed. Tuples are immutable; they cannot be changed at all. Also, tuples are written using parentheses, ( and ), while lists use the square brackets, [ and ].\n",
    "Example on how to write a Tuple - tup1(1,2,3)\n",
    "Example on how to write a List - Lis1['Hi',1,2,'iNeuron']\n",
    "\n"
   ]
  },
  {
   "cell_type": "markdown",
   "id": "f0c62b86",
   "metadata": {},
   "source": [
    "## 14. How do you type a tuple value that only contains the integer 42?\n",
    "(42,) (The trailing comma is mandatory.)"
   ]
  },
  {
   "cell_type": "code",
   "execution_count": 5,
   "id": "9805cdb2",
   "metadata": {},
   "outputs": [
    {
     "data": {
      "text/plain": [
       "int"
      ]
     },
     "execution_count": 5,
     "metadata": {},
     "output_type": "execute_result"
    }
   ],
   "source": [
    "t = (42)\n",
    "type(t)"
   ]
  },
  {
   "cell_type": "code",
   "execution_count": 6,
   "id": "52b4d9ab",
   "metadata": {},
   "outputs": [
    {
     "data": {
      "text/plain": [
       "tuple"
      ]
     },
     "execution_count": 6,
     "metadata": {},
     "output_type": "execute_result"
    }
   ],
   "source": [
    "p = (42,)\n",
    "type(p)"
   ]
  },
  {
   "cell_type": "markdown",
   "id": "ee6d4883",
   "metadata": {},
   "source": [
    "## 15. How do you get a list value's tuple form? How do you get a tuple value's list form?\n",
    "The tuple() and list() functions, respectively"
   ]
  },
  {
   "cell_type": "markdown",
   "id": "48f94c4d",
   "metadata": {},
   "source": [
    "## 16. Variables that \"contain\" list values are not necessarily lists themselves. Instead, what do they contain?\n",
    "They contain references to list values."
   ]
  },
  {
   "cell_type": "markdown",
   "id": "e15b88f0",
   "metadata": {},
   "source": [
    "## 17. How do you distinguish between copy.copy() and copy.deepcopy()?\n",
    "The copy.copy() function will do a shallow copy of a list, while the copy.deepcopy() function will do a deep copy of a list. That is, only copy.deepcopy() will duplicate any lists inside the list."
   ]
  },
  {
   "cell_type": "code",
   "execution_count": 7,
   "id": "7a15a615",
   "metadata": {},
   "outputs": [
    {
     "name": "stdout",
     "output_type": "stream",
     "text": [
      "[[1, 2, 3], [4, 5, 6]] 1816481623232\n",
      "[[1, 2, 3], [4, 5, 6]] 1816481623232\n"
     ]
    }
   ],
   "source": [
    "oldlist = [[1,2,3],[4,5,6]]\n",
    "newlist = oldlist\n",
    "print(oldlist,id(oldlist))\n",
    "print(newlist,id(newlist))"
   ]
  },
  {
   "cell_type": "code",
   "execution_count": 16,
   "id": "0ea2eb0b",
   "metadata": {},
   "outputs": [
    {
     "name": "stdout",
     "output_type": "stream",
     "text": [
      "OldList=  [[1, 2, 3], [4, 5, 'Nav'], [7, 8, 9]] 1816481626368\n",
      "NewList=  [[1, 2, 3], [4, 5, 'Nav']] 1816481642560\n"
     ]
    }
   ],
   "source": [
    "#Example of copy\n",
    "import copy\n",
    "oldlist = [[1,2,3],[4,5,6]]\n",
    "newlist = copy.copy(oldlist)\n",
    "oldlist.append([7,8,9])\n",
    "oldlist[1][2] = 'Nav'\n",
    "print('OldList= ',oldlist,id(oldlist))\n",
    "print('NewList= ',newlist,id(newlist))"
   ]
  },
  {
   "cell_type": "markdown",
   "id": "fdaf71df",
   "metadata": {},
   "source": [
    "We created a shallow copy of oldlist. The newlist contains references to original nested objects stored in oldlist. Then we add the new list i.e [7,8,9] into oldlist. This new sublist was not copied in newlist. However, when you change any nested objects in oldlist, the changes appear in newlist. Both sublists of oldlist and newlist at index [1][2] were modified. This is because, both lists share the reference of same nested objects."
   ]
  },
  {
   "cell_type": "code",
   "execution_count": 19,
   "id": "760efbc6",
   "metadata": {},
   "outputs": [
    {
     "name": "stdout",
     "output_type": "stream",
     "text": [
      "OldList=  [[1, 1, 1], [2, 'Neeth', 2]] 1816481642560\n",
      "NewList=  [[1, 1, 1], [2, 2, 2]] 1816481638976\n"
     ]
    }
   ],
   "source": [
    "#Example of deepcopy\n",
    "import copy\n",
    "oldlist = [[1,1,1],[2,2,2]]\n",
    "newlist = copy.deepcopy(oldlist)\n",
    "\n",
    "oldlist[1][1] = 'Neeth'\n",
    "\n",
    "print('OldList= ',oldlist,id(oldlist))\n",
    "print('NewList= ',newlist,id(newlist))"
   ]
  },
  {
   "cell_type": "markdown",
   "id": "70fd1f9d",
   "metadata": {},
   "source": [
    "In the above program, when we assign a new value to oldlist, we can see only the oldlist is modified. This means, both the oldlist and the newlist are independent. This is because the oldlist was recursively copied, which is true for all its nested objects."
   ]
  }
 ],
 "metadata": {
  "kernelspec": {
   "display_name": "Python 3 (ipykernel)",
   "language": "python",
   "name": "python3"
  },
  "language_info": {
   "codemirror_mode": {
    "name": "ipython",
    "version": 3
   },
   "file_extension": ".py",
   "mimetype": "text/x-python",
   "name": "python",
   "nbconvert_exporter": "python",
   "pygments_lexer": "ipython3",
   "version": "3.9.7"
  }
 },
 "nbformat": 4,
 "nbformat_minor": 5
}
